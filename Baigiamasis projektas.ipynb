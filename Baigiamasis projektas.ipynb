{
 "cells": [
  {
   "attachments": {},
   "cell_type": "markdown",
   "metadata": {},
   "source": [
    "Olimpinių žaidinių istoriniai duomenys (1896-2016 metai)\n",
    "\n",
    "Duomenų analizė atliekama remiantis istoriniais duomenimis apie šiuolaikines olimpines žaidynes nuo 1896 m. Atėnų iki 2016 m. Rio de Žaneiro. Kiekviena eilutė atitinka individualų sportininką, besivaržantį individualioje rungtyje, įskaitant sportininko vardą, lytį, amžių, ugį, svorį, šalį, sezoną, metus, miestą, sporto šaką, rungties pavadinimą bei laimėtą medalį.\n",
    "\n",
    "Duomenis galima rasti: https://www.mavenanalytics.io/data-playground?page=3&pageSize=5\n",
    "\n",
    "Užduotys:\n",
    "1. Apskaičiuoti, kokį procentą dalyvių per visą olimpinių varžybų laikotarpį sudarė moterys ir vyrai.\n",
    "2. Palygnti žiemos ir vasaros žaidines dalyvių skaičiumi, dalyvavusiomis šalimis ir rungčių bei sporto šakų skaičiumi.\n",
    "3. Nustatyti top 10 šalių laimėjųsių daugiausiai aukso, sidabro, bronzos medalių.\n",
    "4. Išanalizuoti, kurios šalys siųsdavo daugiausiai sportininkų dalyvauti žaidynėse ir ar tos šalys laimėdavo daugiausiai medalių.\n",
    "5. Kiek Lietuvos sportininkai yra laimėję medalių? TOP 10 Lietuvos medalininkų? Kokio vidutinio amžiaus būdami Lietuviai dažniausiai laimėdavo medalius?\n"
   ]
  },
  {
   "cell_type": "code",
   "execution_count": 1,
   "metadata": {},
   "outputs": [],
   "source": [
    "import pandas as pd\n",
    "import matplotlib.pyplot as plt\n",
    "import numpy as np\n"
   ]
  },
  {
   "cell_type": "code",
   "execution_count": 2,
   "metadata": {},
   "outputs": [],
   "source": [
    "olympic0 = pd.read_csv('athlete_events.csv')\n",
    "olympic = pd.read_csv('athlete_events.csv')\n",
    "olympic2 = pd.read_csv('athlete_events.csv')\n",
    "olympic3 = pd.read_csv('athlete_events.csv')"
   ]
  },
  {
   "cell_type": "code",
   "execution_count": 66,
   "metadata": {},
   "outputs": [
    {
     "data": {
      "text/html": [
       "<div>\n",
       "<style scoped>\n",
       "    .dataframe tbody tr th:only-of-type {\n",
       "        vertical-align: middle;\n",
       "    }\n",
       "\n",
       "    .dataframe tbody tr th {\n",
       "        vertical-align: top;\n",
       "    }\n",
       "\n",
       "    .dataframe thead th {\n",
       "        text-align: right;\n",
       "    }\n",
       "</style>\n",
       "<table border=\"1\" class=\"dataframe\">\n",
       "  <thead>\n",
       "    <tr style=\"text-align: right;\">\n",
       "      <th></th>\n",
       "      <th>ID</th>\n",
       "      <th>Name</th>\n",
       "      <th>Sex</th>\n",
       "      <th>Age</th>\n",
       "      <th>Height</th>\n",
       "      <th>Weight</th>\n",
       "      <th>Team</th>\n",
       "      <th>NOC</th>\n",
       "      <th>Games</th>\n",
       "      <th>Year</th>\n",
       "      <th>Season</th>\n",
       "      <th>City</th>\n",
       "      <th>Sport</th>\n",
       "      <th>Event</th>\n",
       "      <th>Medal</th>\n",
       "    </tr>\n",
       "  </thead>\n",
       "  <tbody>\n",
       "    <tr>\n",
       "      <th>0</th>\n",
       "      <td>1</td>\n",
       "      <td>A Dijiang</td>\n",
       "      <td>M</td>\n",
       "      <td>24.0</td>\n",
       "      <td>180.0</td>\n",
       "      <td>80.0</td>\n",
       "      <td>China</td>\n",
       "      <td>CHN</td>\n",
       "      <td>1992 Summer</td>\n",
       "      <td>1992</td>\n",
       "      <td>Summer</td>\n",
       "      <td>Barcelona</td>\n",
       "      <td>Basketball</td>\n",
       "      <td>Basketball Men's Basketball</td>\n",
       "      <td>NaN</td>\n",
       "    </tr>\n",
       "    <tr>\n",
       "      <th>1</th>\n",
       "      <td>2</td>\n",
       "      <td>A Lamusi</td>\n",
       "      <td>M</td>\n",
       "      <td>23.0</td>\n",
       "      <td>170.0</td>\n",
       "      <td>60.0</td>\n",
       "      <td>China</td>\n",
       "      <td>CHN</td>\n",
       "      <td>2012 Summer</td>\n",
       "      <td>2012</td>\n",
       "      <td>Summer</td>\n",
       "      <td>London</td>\n",
       "      <td>Judo</td>\n",
       "      <td>Judo Men's Extra-Lightweight</td>\n",
       "      <td>NaN</td>\n",
       "    </tr>\n",
       "    <tr>\n",
       "      <th>2</th>\n",
       "      <td>3</td>\n",
       "      <td>Gunnar Nielsen Aaby</td>\n",
       "      <td>M</td>\n",
       "      <td>24.0</td>\n",
       "      <td>NaN</td>\n",
       "      <td>NaN</td>\n",
       "      <td>Denmark</td>\n",
       "      <td>DEN</td>\n",
       "      <td>1920 Summer</td>\n",
       "      <td>1920</td>\n",
       "      <td>Summer</td>\n",
       "      <td>Antwerpen</td>\n",
       "      <td>Football</td>\n",
       "      <td>Football Men's Football</td>\n",
       "      <td>NaN</td>\n",
       "    </tr>\n",
       "    <tr>\n",
       "      <th>3</th>\n",
       "      <td>4</td>\n",
       "      <td>Edgar Lindenau Aabye</td>\n",
       "      <td>M</td>\n",
       "      <td>34.0</td>\n",
       "      <td>NaN</td>\n",
       "      <td>NaN</td>\n",
       "      <td>Denmark/Sweden</td>\n",
       "      <td>DEN</td>\n",
       "      <td>1900 Summer</td>\n",
       "      <td>1900</td>\n",
       "      <td>Summer</td>\n",
       "      <td>Paris</td>\n",
       "      <td>Tug-Of-War</td>\n",
       "      <td>Tug-Of-War Men's Tug-Of-War</td>\n",
       "      <td>Gold</td>\n",
       "    </tr>\n",
       "    <tr>\n",
       "      <th>4</th>\n",
       "      <td>5</td>\n",
       "      <td>Christine Jacoba Aaftink</td>\n",
       "      <td>F</td>\n",
       "      <td>21.0</td>\n",
       "      <td>185.0</td>\n",
       "      <td>82.0</td>\n",
       "      <td>Netherlands</td>\n",
       "      <td>NED</td>\n",
       "      <td>1988 Winter</td>\n",
       "      <td>1988</td>\n",
       "      <td>Winter</td>\n",
       "      <td>Calgary</td>\n",
       "      <td>Speed Skating</td>\n",
       "      <td>Speed Skating Women's 500 metres</td>\n",
       "      <td>NaN</td>\n",
       "    </tr>\n",
       "  </tbody>\n",
       "</table>\n",
       "</div>"
      ],
      "text/plain": [
       "   ID                      Name Sex   Age  Height  Weight            Team   \n",
       "0   1                 A Dijiang   M  24.0   180.0    80.0           China  \\\n",
       "1   2                  A Lamusi   M  23.0   170.0    60.0           China   \n",
       "2   3       Gunnar Nielsen Aaby   M  24.0     NaN     NaN         Denmark   \n",
       "3   4      Edgar Lindenau Aabye   M  34.0     NaN     NaN  Denmark/Sweden   \n",
       "4   5  Christine Jacoba Aaftink   F  21.0   185.0    82.0     Netherlands   \n",
       "\n",
       "   NOC        Games  Year  Season       City          Sport   \n",
       "0  CHN  1992 Summer  1992  Summer  Barcelona     Basketball  \\\n",
       "1  CHN  2012 Summer  2012  Summer     London           Judo   \n",
       "2  DEN  1920 Summer  1920  Summer  Antwerpen       Football   \n",
       "3  DEN  1900 Summer  1900  Summer      Paris     Tug-Of-War   \n",
       "4  NED  1988 Winter  1988  Winter    Calgary  Speed Skating   \n",
       "\n",
       "                              Event Medal  \n",
       "0       Basketball Men's Basketball   NaN  \n",
       "1      Judo Men's Extra-Lightweight   NaN  \n",
       "2           Football Men's Football   NaN  \n",
       "3       Tug-Of-War Men's Tug-Of-War  Gold  \n",
       "4  Speed Skating Women's 500 metres   NaN  "
      ]
     },
     "execution_count": 66,
     "metadata": {},
     "output_type": "execute_result"
    }
   ],
   "source": [
    "olympic.head()"
   ]
  },
  {
   "cell_type": "code",
   "execution_count": 67,
   "metadata": {},
   "outputs": [
    {
     "data": {
      "text/html": [
       "<div>\n",
       "<style scoped>\n",
       "    .dataframe tbody tr th:only-of-type {\n",
       "        vertical-align: middle;\n",
       "    }\n",
       "\n",
       "    .dataframe tbody tr th {\n",
       "        vertical-align: top;\n",
       "    }\n",
       "\n",
       "    .dataframe thead th {\n",
       "        text-align: right;\n",
       "    }\n",
       "</style>\n",
       "<table border=\"1\" class=\"dataframe\">\n",
       "  <thead>\n",
       "    <tr style=\"text-align: right;\">\n",
       "      <th></th>\n",
       "      <th>ID</th>\n",
       "      <th>Name</th>\n",
       "      <th>Sex</th>\n",
       "      <th>Age</th>\n",
       "      <th>Height</th>\n",
       "      <th>Weight</th>\n",
       "      <th>Team</th>\n",
       "      <th>NOC</th>\n",
       "      <th>Games</th>\n",
       "      <th>Year</th>\n",
       "      <th>Season</th>\n",
       "      <th>City</th>\n",
       "      <th>Sport</th>\n",
       "      <th>Event</th>\n",
       "      <th>Medal</th>\n",
       "    </tr>\n",
       "  </thead>\n",
       "  <tbody>\n",
       "    <tr>\n",
       "      <th>271111</th>\n",
       "      <td>135569</td>\n",
       "      <td>Andrzej ya</td>\n",
       "      <td>M</td>\n",
       "      <td>29.0</td>\n",
       "      <td>179.0</td>\n",
       "      <td>89.0</td>\n",
       "      <td>Poland-1</td>\n",
       "      <td>POL</td>\n",
       "      <td>1976 Winter</td>\n",
       "      <td>1976</td>\n",
       "      <td>Winter</td>\n",
       "      <td>Innsbruck</td>\n",
       "      <td>Luge</td>\n",
       "      <td>Luge Mixed (Men)'s Doubles</td>\n",
       "      <td>NaN</td>\n",
       "    </tr>\n",
       "    <tr>\n",
       "      <th>271112</th>\n",
       "      <td>135570</td>\n",
       "      <td>Piotr ya</td>\n",
       "      <td>M</td>\n",
       "      <td>27.0</td>\n",
       "      <td>176.0</td>\n",
       "      <td>59.0</td>\n",
       "      <td>Poland</td>\n",
       "      <td>POL</td>\n",
       "      <td>2014 Winter</td>\n",
       "      <td>2014</td>\n",
       "      <td>Winter</td>\n",
       "      <td>Sochi</td>\n",
       "      <td>Ski Jumping</td>\n",
       "      <td>Ski Jumping Men's Large Hill, Individual</td>\n",
       "      <td>NaN</td>\n",
       "    </tr>\n",
       "    <tr>\n",
       "      <th>271113</th>\n",
       "      <td>135570</td>\n",
       "      <td>Piotr ya</td>\n",
       "      <td>M</td>\n",
       "      <td>27.0</td>\n",
       "      <td>176.0</td>\n",
       "      <td>59.0</td>\n",
       "      <td>Poland</td>\n",
       "      <td>POL</td>\n",
       "      <td>2014 Winter</td>\n",
       "      <td>2014</td>\n",
       "      <td>Winter</td>\n",
       "      <td>Sochi</td>\n",
       "      <td>Ski Jumping</td>\n",
       "      <td>Ski Jumping Men's Large Hill, Team</td>\n",
       "      <td>NaN</td>\n",
       "    </tr>\n",
       "    <tr>\n",
       "      <th>271114</th>\n",
       "      <td>135571</td>\n",
       "      <td>Tomasz Ireneusz ya</td>\n",
       "      <td>M</td>\n",
       "      <td>30.0</td>\n",
       "      <td>185.0</td>\n",
       "      <td>96.0</td>\n",
       "      <td>Poland</td>\n",
       "      <td>POL</td>\n",
       "      <td>1998 Winter</td>\n",
       "      <td>1998</td>\n",
       "      <td>Winter</td>\n",
       "      <td>Nagano</td>\n",
       "      <td>Bobsleigh</td>\n",
       "      <td>Bobsleigh Men's Four</td>\n",
       "      <td>NaN</td>\n",
       "    </tr>\n",
       "    <tr>\n",
       "      <th>271115</th>\n",
       "      <td>135571</td>\n",
       "      <td>Tomasz Ireneusz ya</td>\n",
       "      <td>M</td>\n",
       "      <td>34.0</td>\n",
       "      <td>185.0</td>\n",
       "      <td>96.0</td>\n",
       "      <td>Poland</td>\n",
       "      <td>POL</td>\n",
       "      <td>2002 Winter</td>\n",
       "      <td>2002</td>\n",
       "      <td>Winter</td>\n",
       "      <td>Salt Lake City</td>\n",
       "      <td>Bobsleigh</td>\n",
       "      <td>Bobsleigh Men's Four</td>\n",
       "      <td>NaN</td>\n",
       "    </tr>\n",
       "  </tbody>\n",
       "</table>\n",
       "</div>"
      ],
      "text/plain": [
       "            ID                Name Sex   Age  Height  Weight      Team  NOC   \n",
       "271111  135569          Andrzej ya   M  29.0   179.0    89.0  Poland-1  POL  \\\n",
       "271112  135570            Piotr ya   M  27.0   176.0    59.0    Poland  POL   \n",
       "271113  135570            Piotr ya   M  27.0   176.0    59.0    Poland  POL   \n",
       "271114  135571  Tomasz Ireneusz ya   M  30.0   185.0    96.0    Poland  POL   \n",
       "271115  135571  Tomasz Ireneusz ya   M  34.0   185.0    96.0    Poland  POL   \n",
       "\n",
       "              Games  Year  Season            City        Sport   \n",
       "271111  1976 Winter  1976  Winter       Innsbruck         Luge  \\\n",
       "271112  2014 Winter  2014  Winter           Sochi  Ski Jumping   \n",
       "271113  2014 Winter  2014  Winter           Sochi  Ski Jumping   \n",
       "271114  1998 Winter  1998  Winter          Nagano    Bobsleigh   \n",
       "271115  2002 Winter  2002  Winter  Salt Lake City    Bobsleigh   \n",
       "\n",
       "                                           Event Medal  \n",
       "271111                Luge Mixed (Men)'s Doubles   NaN  \n",
       "271112  Ski Jumping Men's Large Hill, Individual   NaN  \n",
       "271113        Ski Jumping Men's Large Hill, Team   NaN  \n",
       "271114                      Bobsleigh Men's Four   NaN  \n",
       "271115                      Bobsleigh Men's Four   NaN  "
      ]
     },
     "execution_count": 67,
     "metadata": {},
     "output_type": "execute_result"
    }
   ],
   "source": [
    "olympic.tail()"
   ]
  },
  {
   "cell_type": "code",
   "execution_count": 3,
   "metadata": {},
   "outputs": [
    {
     "data": {
      "text/plain": [
       "Index(['ID', 'Name', 'Sex', 'Age', 'Height', 'Weight', 'Team', 'NOC', 'Games',\n",
       "       'Year', 'Season', 'City', 'Sport', 'Event', 'Medal'],\n",
       "      dtype='object')"
      ]
     },
     "execution_count": 3,
     "metadata": {},
     "output_type": "execute_result"
    }
   ],
   "source": [
    "olympic.columns"
   ]
  },
  {
   "cell_type": "code",
   "execution_count": 4,
   "metadata": {},
   "outputs": [
    {
     "name": "stdout",
     "output_type": "stream",
     "text": [
      "Duomenų rinkinį sudaro: 271116 eilutės\n",
      "\n"
     ]
    }
   ],
   "source": [
    "print('Duomenų rinkinį sudaro:',len(olympic),'eilutės')\n",
    "print()"
   ]
  },
  {
   "cell_type": "code",
   "execution_count": 5,
   "metadata": {},
   "outputs": [
    {
     "data": {
      "text/plain": [
       "ID             0\n",
       "Name           0\n",
       "Sex            0\n",
       "Age         9474\n",
       "Height     60171\n",
       "Weight     62875\n",
       "Team           0\n",
       "NOC            0\n",
       "Games          0\n",
       "Year           0\n",
       "Season         0\n",
       "City           0\n",
       "Sport          0\n",
       "Event          0\n",
       "Medal     231333\n",
       "dtype: int64"
      ]
     },
     "execution_count": 5,
     "metadata": {},
     "output_type": "execute_result"
    }
   ],
   "source": [
    "pd.isna(olympic).sum()"
   ]
  },
  {
   "cell_type": "code",
   "execution_count": 6,
   "metadata": {},
   "outputs": [
    {
     "data": {
      "text/plain": [
       "0         1992 Summer\n",
       "1         2012 Summer\n",
       "2         1920 Summer\n",
       "3         1900 Summer\n",
       "4         1988 Winter\n",
       "             ...     \n",
       "271111    1976 Winter\n",
       "271112    2014 Winter\n",
       "271113    2014 Winter\n",
       "271114    1998 Winter\n",
       "271115    2002 Winter\n",
       "Name: Games, Length: 271116, dtype: object"
      ]
     },
     "execution_count": 6,
     "metadata": {},
     "output_type": "execute_result"
    }
   ],
   "source": [
    "olympic0['Medal'] = olympic0['Medal'].fillna('Not win')\n",
    "olympic0['Age'] = olympic0['Age'].fillna(0)\n",
    "olympic0.pop('Height')\n",
    "olympic0.pop('Weight')\n",
    "olympic0.pop('Games')\n",
    "\n",
    "olympic['Medal'] = olympic['Medal'].fillna('Not win')\n",
    "olympic['Age'] = olympic['Age'].fillna(0)\n",
    "olympic.pop('Height')\n",
    "olympic.pop('Weight')\n",
    "olympic.pop('Games')\n",
    "\n",
    "olympic2['Medal'] = olympic2['Medal'].fillna('Not win')\n",
    "olympic2['Age'] = olympic2['Age'].fillna(0)\n",
    "olympic2.pop('Height')\n",
    "olympic2.pop('Weight')\n",
    "olympic2.pop('Games')\n",
    "\n",
    "olympic3['Age'] = olympic3['Age'].fillna(0)\n",
    "olympic3.pop('Height')\n",
    "olympic3.pop('Weight')\n",
    "olympic3.pop('Games')\n"
   ]
  },
  {
   "cell_type": "code",
   "execution_count": 7,
   "metadata": {},
   "outputs": [
    {
     "data": {
      "text/plain": [
       "ID        0\n",
       "Name      0\n",
       "Sex       0\n",
       "Age       0\n",
       "Team      0\n",
       "NOC       0\n",
       "Year      0\n",
       "Season    0\n",
       "City      0\n",
       "Sport     0\n",
       "Event     0\n",
       "Medal     0\n",
       "dtype: int64"
      ]
     },
     "execution_count": 7,
     "metadata": {},
     "output_type": "execute_result"
    }
   ],
   "source": [
    "pd.isna(olympic).sum()"
   ]
  },
  {
   "cell_type": "code",
   "execution_count": 8,
   "metadata": {},
   "outputs": [
    {
     "data": {
      "text/plain": [
       "ID        0\n",
       "Name      0\n",
       "Sex       0\n",
       "Age       0\n",
       "Team      0\n",
       "NOC       0\n",
       "Year      0\n",
       "Season    0\n",
       "City      0\n",
       "Sport     0\n",
       "Event     0\n",
       "Medal     0\n",
       "dtype: int64"
      ]
     },
     "execution_count": 8,
     "metadata": {},
     "output_type": "execute_result"
    }
   ],
   "source": [
    "pd.isna(olympic2).sum()"
   ]
  },
  {
   "cell_type": "code",
   "execution_count": 9,
   "metadata": {},
   "outputs": [
    {
     "name": "stdout",
     "output_type": "stream",
     "text": [
      "Sex\n",
      "F     33981\n",
      "M    101590\n",
      "Name: ID, dtype: int64\n"
     ]
    }
   ],
   "source": [
    "#1. Apskaičiuoti, kokį procentą dalyvių per visą 1896-2016 metų laikotarpį sudarė moterys ir vyrai.\n",
    "Unikalūs_id = olympic0.drop_duplicates(subset=['ID'])\n",
    "Unikalūs_id.groupby(['Sex']).count()['ID']\n",
    "print(Unikalūs_id.groupby(['Sex']).count()['ID'])\n"
   ]
  },
  {
   "cell_type": "code",
   "execution_count": 10,
   "metadata": {},
   "outputs": [
    {
     "data": {
      "image/png": "[encoded data removed]",
      "text/plain": [
       "<Figure size 640x480 with 1 Axes>"
      ]
     },
     "metadata": {},
     "output_type": "display_data"
    }
   ],
   "source": [
    "Moterys = Unikalūs_id.loc[Unikalūs_id['Sex'] == 'F'].count()['Sex']   \n",
    "Vyrai = Unikalūs_id.loc[Unikalūs_id['Sex'] == 'M'].count()['Sex']\n",
    "\n",
    "labels = ['Moterys', 'Vyrai']\n",
    "plt.pie([Moterys, Vyrai], labels= labels, autopct='%.2f %%')\n",
    "\n",
    "plt.show()"
   ]
  },
  {
   "cell_type": "code",
   "execution_count": 12,
   "metadata": {},
   "outputs": [
    {
     "name": "stdout",
     "output_type": "stream",
     "text": [
      "Vasaros olimpinėse žaidynėse yra dalyvavę 116776 sportininkai, tai yra 97818 sportininkais daugiau nei yra dalyvavę žiemos žaidynėse (18958)\n"
     ]
    }
   ],
   "source": [
    "#2.  Palygnti žiemos ir vasaros žaidines dalyvių skaičiumi, dalyvavusiomis šalimis ir rungčių bei sporto šakų skaičiumi.\n",
    "\n",
    "#Sukuriamos atskiros lentelės tik su Winter ir tik su Summer\n",
    "olympic.drop(olympic[olympic['Season'] == 'Winter']. index, inplace = True)\n",
    "olympic2.drop(olympic2[olympic2['Season'] == 'Summer']. index, inplace = True)\n",
    "\n",
    "Dalyvių_sk_vasaros = olympic['ID'].nunique()\n",
    "Dalyvių_sk_žiemos = olympic2['ID'].nunique()\n",
    "\n",
    "\n",
    "skirtumas1 = Dalyvių_sk_vasaros - Dalyvių_sk_žiemos\n",
    "skirtumas2 = Dalyvių_sk_žiemos - Dalyvių_sk_vasaros\n",
    "\n",
    "if Dalyvių_sk_žiemos > Dalyvių_sk_vasaros:\n",
    "    print(f'Žiemos olimpinėse žaidynėse yra dalyvavę {Dalyvių_sk_žiemos} sportininkai, tai yra {skirtumas2} sportininkais daugiau nei yra dalyvavę vasaros žaidynėse ({Dalyvių_sk_vasaros})')\n",
    "elif Dalyvių_sk_žiemos < Dalyvių_sk_vasaros:\n",
    "    print(f'Vasaros olimpinėse žaidynėse yra dalyvavę {Dalyvių_sk_vasaros} sportininkai, tai yra {skirtumas1} sportininkais daugiau nei yra dalyvavę žiemos žaidynėse ({Dalyvių_sk_žiemos})')\n",
    "else:\n",
    "    ('Vasaros ir žiemos olimpinėse žaidynėse dalyvavo vienodas skaičius sportininkų')"
   ]
  },
  {
   "cell_type": "code",
   "execution_count": 13,
   "metadata": {},
   "outputs": [
    {
     "name": "stdout",
     "output_type": "stream",
     "text": [
      "Vasaros žaidynėse buvo 52 sporto šakos, kas yra 35 sporto šakomis daugiau negu žiemos žaidynėse (17)\n",
      "\n",
      "Vasaros žaidynėse buvo 651 sporto rungtys, kas yra 532 sporto rungtimis daugiau negu žiemos žaidynėse (119)\n",
      "\n",
      "Vasaros žaidynėse iš viso dalyvavo 230 šalių, kas yra 111 šalimis daugiau negu žiemos žaidynėse (119)\n"
     ]
    }
   ],
   "source": [
    "#Apksaičiuoja, kiek kiekvienose žaidynėse buvo unikalių sporto šakų per visą laikotarpį\n",
    "Sporto_šakų_vasaros = olympic['Sport'].nunique()\n",
    "Sporto_šakų_žiemos = olympic2['Sport'].nunique()\n",
    "\n",
    "#Apksaičiuoja, kiek kiekvienose žaidynėse buvo unikalių sporto rungčių per visą laikotarpį\n",
    "Sporto_rungčių_vasaros = olympic['Event'].nunique()\n",
    "Sporto_rungčių_žiemos = olympic2['Event'].nunique()\n",
    "\n",
    "#Apksaičiuoja, kiek kiekvienose žaidynėse dalyvavo unikalių šalių\n",
    "Šalių_vasaros = olympic['NOC'].nunique()\n",
    "Šalių_žiemos = olympic2['NOC'].nunique()\n",
    "\n",
    "Vasaros_šakų_skirtumas = Sporto_šakų_vasaros - Sporto_šakų_žiemos\n",
    "Žiemos_šakų_skirtumas = Sporto_šakų_žiemos - Sporto_šakų_vasaros\n",
    "\n",
    "Vasaros_rungčių_skirtumas = Sporto_rungčių_vasaros - Sporto_rungčių_žiemos\n",
    "Žiemos_rungčių_skirtumas = Sporto_rungčių_žiemos - Sporto_rungčių_vasaros\n",
    "\n",
    "Vasaros_šalių_skirtumas = Šalių_vasaros - Šalių_žiemos\n",
    "Žiemos_šalių_skirtumas = Šalių_žiemos - Šalių_vasaros\n",
    "\n",
    "if Sporto_šakų_vasaros > Sporto_šakų_žiemos:\n",
    "    print(f'Vasaros žaidynėse buvo {Sporto_šakų_vasaros} sporto šakos, kas yra {Vasaros_šakų_skirtumas} sporto šakomis daugiau negu žiemos žaidynėse ({Sporto_šakų_žiemos})')\n",
    "elif Sporto_šakų_vasaros < Sporto_šakų_žiemos:\n",
    "    print(f'Žiemos žaidynėse buvo {Sporto_šakų_žiemos} sporto šakos, kas yra {Žiemos_šakų_skirtumas} sporto šakomis daugiau negu vasaros žaidynėse ({Sporto_šakų_vasaros})')\n",
    "else:\n",
    "    print('Vasaros ir žiemos žaidynėse sporto šakų buvo po tiek pat')\n",
    "\n",
    "print()\n",
    "\n",
    "if Sporto_rungčių_vasaros > Sporto_rungčių_žiemos:\n",
    "    print(f'Vasaros žaidynėse buvo {Sporto_rungčių_vasaros} sporto rungtys, kas yra {Vasaros_rungčių_skirtumas} sporto rungtimis daugiau negu žiemos žaidynėse ({Sporto_rungčių_žiemos})')\n",
    "elif Sporto_rungčių_vasaros < Sporto_rungčių_žiemos:\n",
    "    print(f'Žiemos žaidynėse buvo {Sporto_rungčių_žiemos} sporto rungtys, kas yra {Žiemos_rungčių_skirtumas} sporto rungtimis daugiau negu vasaros žaidynėse ({Sporto_rungčių_vasaros})')\n",
    "else:\n",
    "    print('Vasaros ir žiemos žaidynėse sporto rungčių buvo po tiek pat')\n",
    "\n",
    "print()\n",
    "\n",
    "if Šalių_vasaros > Šalių_žiemos:\n",
    "    print(f'Vasaros žaidynėse iš viso dalyvavo {Šalių_vasaros} šalių, kas yra {Vasaros_šalių_skirtumas} šalimis daugiau negu žiemos žaidynėse ({Šalių_žiemos})')\n",
    "elif Šalių_vasaros < Šalių_žiemos:\n",
    "    print(f'Žiemos žaidynėse iš viso dalyvavo {Šalių_žiemos} šalių, kas yra {Žiemos_šalių_skirtumas} šalimis daugiau negu vasaros žaidynėse ({Šalių_vasaros})')\n",
    "else:\n",
    "    print('Vasaros ir žiemos žaidynėse sporto rungčių buvo po tiek pat')\n",
    "\n",
    "\n",
    "\n"
   ]
  },
  {
   "cell_type": "code",
   "execution_count": 14,
   "metadata": {},
   "outputs": [
    {
     "data": {
      "text/plain": [
       "[Text(0, 0, '17'), Text(0, 0, '119'), Text(0, 0, '119')]"
      ]
     },
     "execution_count": 14,
     "metadata": {},
     "output_type": "execute_result"
    },
    {
     "data": {
      "image/png": "[encoded data removed]",
      "text/plain": [
       "<Figure size 640x480 with 1 Axes>"
      ]
     },
     "metadata": {},
     "output_type": "display_data"
    }
   ],
   "source": [
    "diagramai = pd.DataFrame({\n",
    "    'Vasaros olimpinės': [Sporto_šakų_vasaros, Sporto_rungčių_vasaros, Šalių_vasaros],\n",
    "    'Žiemos olimpinės': [Sporto_šakų_žiemos, Sporto_rungčių_žiemos, Šalių_žiemos]},\n",
    "     index= ['Sporto šakos', 'Sporto rungtys', 'Dalyvavo šalių'])\n",
    "\n",
    "ax = diagramai.plot.barh()\n",
    "ax.bar_label(ax.containers[0])\n",
    "ax.bar_label(ax.containers[1])\n",
    "\n",
    "\n",
    "\n",
    "\n",
    "\n"
   ]
  },
  {
   "cell_type": "code",
   "execution_count": 27,
   "metadata": {},
   "outputs": [
    {
     "data": {
      "text/html": [
       "<div>\n",
       "<style scoped>\n",
       "    .dataframe tbody tr th:only-of-type {\n",
       "        vertical-align: middle;\n",
       "    }\n",
       "\n",
       "    .dataframe tbody tr th {\n",
       "        vertical-align: top;\n",
       "    }\n",
       "\n",
       "    .dataframe thead th {\n",
       "        text-align: right;\n",
       "    }\n",
       "</style>\n",
       "<table border=\"1\" class=\"dataframe\">\n",
       "  <thead>\n",
       "    <tr style=\"text-align: right;\">\n",
       "      <th></th>\n",
       "      <th>NOC</th>\n",
       "      <th>Laimėti aukso medaliai</th>\n",
       "    </tr>\n",
       "  </thead>\n",
       "  <tbody>\n",
       "    <tr>\n",
       "      <th>216</th>\n",
       "      <td>USA</td>\n",
       "      <td>2472</td>\n",
       "    </tr>\n",
       "    <tr>\n",
       "      <th>214</th>\n",
       "      <td>URS</td>\n",
       "      <td>832</td>\n",
       "    </tr>\n",
       "    <tr>\n",
       "      <th>74</th>\n",
       "      <td>GBR</td>\n",
       "      <td>636</td>\n",
       "    </tr>\n",
       "    <tr>\n",
       "      <th>79</th>\n",
       "      <td>GER</td>\n",
       "      <td>592</td>\n",
       "    </tr>\n",
       "    <tr>\n",
       "      <th>100</th>\n",
       "      <td>ITA</td>\n",
       "      <td>518</td>\n",
       "    </tr>\n",
       "    <tr>\n",
       "      <th>69</th>\n",
       "      <td>FRA</td>\n",
       "      <td>465</td>\n",
       "    </tr>\n",
       "    <tr>\n",
       "      <th>90</th>\n",
       "      <td>HUN</td>\n",
       "      <td>432</td>\n",
       "    </tr>\n",
       "    <tr>\n",
       "      <th>193</th>\n",
       "      <td>SWE</td>\n",
       "      <td>354</td>\n",
       "    </tr>\n",
       "    <tr>\n",
       "      <th>12</th>\n",
       "      <td>AUS</td>\n",
       "      <td>342</td>\n",
       "    </tr>\n",
       "    <tr>\n",
       "      <th>76</th>\n",
       "      <td>GDR</td>\n",
       "      <td>339</td>\n",
       "    </tr>\n",
       "  </tbody>\n",
       "</table>\n",
       "</div>"
      ],
      "text/plain": [
       "     NOC  Laimėti aukso medaliai\n",
       "216  USA                    2472\n",
       "214  URS                     832\n",
       "74   GBR                     636\n",
       "79   GER                     592\n",
       "100  ITA                     518\n",
       "69   FRA                     465\n",
       "90   HUN                     432\n",
       "193  SWE                     354\n",
       "12   AUS                     342\n",
       "76   GDR                     339"
      ]
     },
     "execution_count": 27,
     "metadata": {},
     "output_type": "execute_result"
    }
   ],
   "source": [
    "#3. Nustatyti top 10 šalių laimėjųsių daugiausiai: \n",
    "    #aukso medalių; \n",
    "    #sidabro medalių;\n",
    "    #bronzos medalių.\n",
    "\n",
    "#Vasaros olimpinėse laimėtų aukso medalių statistika\n",
    "Laimėti_aukso_vasaros = olympic.groupby('NOC')['Medal'].apply(lambda x: (x=='Gold').sum()).reset_index(name='Laimėti aukso medaliai')\n",
    "Laimėti_aukso_vasaros.sort_values('Laimėti aukso medaliai', ascending=False).head(10)"
   ]
  },
  {
   "cell_type": "code",
   "execution_count": 29,
   "metadata": {},
   "outputs": [
    {
     "data": {
      "text/html": [
       "<div>\n",
       "<style scoped>\n",
       "    .dataframe tbody tr th:only-of-type {\n",
       "        vertical-align: middle;\n",
       "    }\n",
       "\n",
       "    .dataframe tbody tr th {\n",
       "        vertical-align: top;\n",
       "    }\n",
       "\n",
       "    .dataframe thead th {\n",
       "        text-align: right;\n",
       "    }\n",
       "</style>\n",
       "<table border=\"1\" class=\"dataframe\">\n",
       "  <thead>\n",
       "    <tr style=\"text-align: right;\">\n",
       "      <th></th>\n",
       "      <th>NOC</th>\n",
       "      <th>Laimėti aukso medaliai</th>\n",
       "    </tr>\n",
       "  </thead>\n",
       "  <tbody>\n",
       "    <tr>\n",
       "      <th>17</th>\n",
       "      <td>CAN</td>\n",
       "      <td>305</td>\n",
       "    </tr>\n",
       "    <tr>\n",
       "      <th>112</th>\n",
       "      <td>URS</td>\n",
       "      <td>250</td>\n",
       "    </tr>\n",
       "    <tr>\n",
       "      <th>114</th>\n",
       "      <td>USA</td>\n",
       "      <td>166</td>\n",
       "    </tr>\n",
       "    <tr>\n",
       "      <th>41</th>\n",
       "      <td>GER</td>\n",
       "      <td>153</td>\n",
       "    </tr>\n",
       "    <tr>\n",
       "      <th>80</th>\n",
       "      <td>NOR</td>\n",
       "      <td>151</td>\n",
       "    </tr>\n",
       "    <tr>\n",
       "      <th>100</th>\n",
       "      <td>SWE</td>\n",
       "      <td>125</td>\n",
       "    </tr>\n",
       "    <tr>\n",
       "      <th>92</th>\n",
       "      <td>RUS</td>\n",
       "      <td>94</td>\n",
       "    </tr>\n",
       "    <tr>\n",
       "      <th>8</th>\n",
       "      <td>AUT</td>\n",
       "      <td>79</td>\n",
       "    </tr>\n",
       "    <tr>\n",
       "      <th>98</th>\n",
       "      <td>SUI</td>\n",
       "      <td>76</td>\n",
       "    </tr>\n",
       "    <tr>\n",
       "      <th>35</th>\n",
       "      <td>FIN</td>\n",
       "      <td>66</td>\n",
       "    </tr>\n",
       "  </tbody>\n",
       "</table>\n",
       "</div>"
      ],
      "text/plain": [
       "     NOC  Laimėti aukso medaliai\n",
       "17   CAN                     305\n",
       "112  URS                     250\n",
       "114  USA                     166\n",
       "41   GER                     153\n",
       "80   NOR                     151\n",
       "100  SWE                     125\n",
       "92   RUS                      94\n",
       "8    AUT                      79\n",
       "98   SUI                      76\n",
       "35   FIN                      66"
      ]
     },
     "execution_count": 29,
     "metadata": {},
     "output_type": "execute_result"
    }
   ],
   "source": [
    "#Žiemos olimpinėse žaidynėse laimėtų aukso medalių statistika\n",
    "Laimėti_aukso_žiemos = olympic2.groupby('NOC')['Medal'].apply(lambda x: (x=='Gold').sum()).reset_index(name='Laimėti aukso medaliai')\n",
    "\n",
    "Laimėti_aukso_žiemos.sort_values('Laimėti aukso medaliai', ascending=False).head(10)"
   ]
  },
  {
   "cell_type": "code",
   "execution_count": 30,
   "metadata": {},
   "outputs": [
    {
     "data": {
      "text/html": [
       "<div>\n",
       "<style scoped>\n",
       "    .dataframe tbody tr th:only-of-type {\n",
       "        vertical-align: middle;\n",
       "    }\n",
       "\n",
       "    .dataframe tbody tr th {\n",
       "        vertical-align: top;\n",
       "    }\n",
       "\n",
       "    .dataframe thead th {\n",
       "        text-align: right;\n",
       "    }\n",
       "</style>\n",
       "<table border=\"1\" class=\"dataframe\">\n",
       "  <thead>\n",
       "    <tr style=\"text-align: right;\">\n",
       "      <th></th>\n",
       "      <th>NOC</th>\n",
       "      <th>Laimėti sidabro medaliai</th>\n",
       "    </tr>\n",
       "  </thead>\n",
       "  <tbody>\n",
       "    <tr>\n",
       "      <th>216</th>\n",
       "      <td>USA</td>\n",
       "      <td>1333</td>\n",
       "    </tr>\n",
       "    <tr>\n",
       "      <th>74</th>\n",
       "      <td>GBR</td>\n",
       "      <td>729</td>\n",
       "    </tr>\n",
       "    <tr>\n",
       "      <th>214</th>\n",
       "      <td>URS</td>\n",
       "      <td>635</td>\n",
       "    </tr>\n",
       "    <tr>\n",
       "      <th>69</th>\n",
       "      <td>FRA</td>\n",
       "      <td>575</td>\n",
       "    </tr>\n",
       "    <tr>\n",
       "      <th>79</th>\n",
       "      <td>GER</td>\n",
       "      <td>538</td>\n",
       "    </tr>\n",
       "    <tr>\n",
       "      <th>100</th>\n",
       "      <td>ITA</td>\n",
       "      <td>474</td>\n",
       "    </tr>\n",
       "    <tr>\n",
       "      <th>12</th>\n",
       "      <td>AUS</td>\n",
       "      <td>452</td>\n",
       "    </tr>\n",
       "    <tr>\n",
       "      <th>193</th>\n",
       "      <td>SWE</td>\n",
       "      <td>396</td>\n",
       "    </tr>\n",
       "    <tr>\n",
       "      <th>90</th>\n",
       "      <td>HUN</td>\n",
       "      <td>328</td>\n",
       "    </tr>\n",
       "    <tr>\n",
       "      <th>41</th>\n",
       "      <td>CHN</td>\n",
       "      <td>317</td>\n",
       "    </tr>\n",
       "  </tbody>\n",
       "</table>\n",
       "</div>"
      ],
      "text/plain": [
       "     NOC  Laimėti sidabro medaliai\n",
       "216  USA                      1333\n",
       "74   GBR                       729\n",
       "214  URS                       635\n",
       "69   FRA                       575\n",
       "79   GER                       538\n",
       "100  ITA                       474\n",
       "12   AUS                       452\n",
       "193  SWE                       396\n",
       "90   HUN                       328\n",
       "41   CHN                       317"
      ]
     },
     "execution_count": 30,
     "metadata": {},
     "output_type": "execute_result"
    }
   ],
   "source": [
    "#Vasaros olimpinėse žaidynėse laimėtų sidarbo medalių statistika\n",
    "Laimėti_sidabro_vasaros = olympic.groupby('NOC')['Medal'].apply(lambda x: (x=='Silver').sum()).reset_index(name='Laimėti sidabro medaliai')\n",
    "Laimėti_sidabro_vasaros.sort_values('Laimėti sidabro medaliai', ascending=False).head(10)"
   ]
  },
  {
   "cell_type": "code",
   "execution_count": 31,
   "metadata": {},
   "outputs": [
    {
     "data": {
      "text/html": [
       "<div>\n",
       "<style scoped>\n",
       "    .dataframe tbody tr th:only-of-type {\n",
       "        vertical-align: middle;\n",
       "    }\n",
       "\n",
       "    .dataframe tbody tr th {\n",
       "        vertical-align: top;\n",
       "    }\n",
       "\n",
       "    .dataframe thead th {\n",
       "        text-align: right;\n",
       "    }\n",
       "</style>\n",
       "<table border=\"1\" class=\"dataframe\">\n",
       "  <thead>\n",
       "    <tr style=\"text-align: right;\">\n",
       "      <th></th>\n",
       "      <th>NOC</th>\n",
       "      <th>Laimėti sidabro medaliai</th>\n",
       "    </tr>\n",
       "  </thead>\n",
       "  <tbody>\n",
       "    <tr>\n",
       "      <th>114</th>\n",
       "      <td>USA</td>\n",
       "      <td>308</td>\n",
       "    </tr>\n",
       "    <tr>\n",
       "      <th>17</th>\n",
       "      <td>CAN</td>\n",
       "      <td>199</td>\n",
       "    </tr>\n",
       "    <tr>\n",
       "      <th>80</th>\n",
       "      <td>NOR</td>\n",
       "      <td>165</td>\n",
       "    </tr>\n",
       "    <tr>\n",
       "      <th>35</th>\n",
       "      <td>FIN</td>\n",
       "      <td>145</td>\n",
       "    </tr>\n",
       "    <tr>\n",
       "      <th>41</th>\n",
       "      <td>GER</td>\n",
       "      <td>136</td>\n",
       "    </tr>\n",
       "    <tr>\n",
       "      <th>100</th>\n",
       "      <td>SWE</td>\n",
       "      <td>126</td>\n",
       "    </tr>\n",
       "    <tr>\n",
       "      <th>8</th>\n",
       "      <td>AUT</td>\n",
       "      <td>98</td>\n",
       "    </tr>\n",
       "    <tr>\n",
       "      <th>112</th>\n",
       "      <td>URS</td>\n",
       "      <td>97</td>\n",
       "    </tr>\n",
       "    <tr>\n",
       "      <th>92</th>\n",
       "      <td>RUS</td>\n",
       "      <td>89</td>\n",
       "    </tr>\n",
       "    <tr>\n",
       "      <th>102</th>\n",
       "      <td>TCH</td>\n",
       "      <td>81</td>\n",
       "    </tr>\n",
       "  </tbody>\n",
       "</table>\n",
       "</div>"
      ],
      "text/plain": [
       "     NOC  Laimėti sidabro medaliai\n",
       "114  USA                       308\n",
       "17   CAN                       199\n",
       "80   NOR                       165\n",
       "35   FIN                       145\n",
       "41   GER                       136\n",
       "100  SWE                       126\n",
       "8    AUT                        98\n",
       "112  URS                        97\n",
       "92   RUS                        89\n",
       "102  TCH                        81"
      ]
     },
     "execution_count": 31,
     "metadata": {},
     "output_type": "execute_result"
    }
   ],
   "source": [
    "#Žiemos olimpinėse žaidynėse laimėtų sidarbo medalių statistika\n",
    "Laimėti_sidabro_žiemos = olympic2.groupby('NOC')['Medal'].apply(lambda x: (x=='Silver').sum()).reset_index(name='Laimėti sidabro medaliai')\n",
    "Laimėti_sidabro_žiemos.sort_values('Laimėti sidabro medaliai', ascending=False).head(10)"
   ]
  },
  {
   "cell_type": "code",
   "execution_count": 32,
   "metadata": {},
   "outputs": [
    {
     "data": {
      "text/html": [
       "<div>\n",
       "<style scoped>\n",
       "    .dataframe tbody tr th:only-of-type {\n",
       "        vertical-align: middle;\n",
       "    }\n",
       "\n",
       "    .dataframe tbody tr th {\n",
       "        vertical-align: top;\n",
       "    }\n",
       "\n",
       "    .dataframe thead th {\n",
       "        text-align: right;\n",
       "    }\n",
       "</style>\n",
       "<table border=\"1\" class=\"dataframe\">\n",
       "  <thead>\n",
       "    <tr style=\"text-align: right;\">\n",
       "      <th></th>\n",
       "      <th>NOC</th>\n",
       "      <th>Laimėti bronzos medaliai</th>\n",
       "    </tr>\n",
       "  </thead>\n",
       "  <tbody>\n",
       "    <tr>\n",
       "      <th>216</th>\n",
       "      <td>USA</td>\n",
       "      <td>1197</td>\n",
       "    </tr>\n",
       "    <tr>\n",
       "      <th>79</th>\n",
       "      <td>GER</td>\n",
       "      <td>649</td>\n",
       "    </tr>\n",
       "    <tr>\n",
       "      <th>74</th>\n",
       "      <td>GBR</td>\n",
       "      <td>620</td>\n",
       "    </tr>\n",
       "    <tr>\n",
       "      <th>214</th>\n",
       "      <td>URS</td>\n",
       "      <td>596</td>\n",
       "    </tr>\n",
       "    <tr>\n",
       "      <th>69</th>\n",
       "      <td>FRA</td>\n",
       "      <td>587</td>\n",
       "    </tr>\n",
       "    <tr>\n",
       "      <th>12</th>\n",
       "      <td>AUS</td>\n",
       "      <td>510</td>\n",
       "    </tr>\n",
       "    <tr>\n",
       "      <th>100</th>\n",
       "      <td>ITA</td>\n",
       "      <td>454</td>\n",
       "    </tr>\n",
       "    <tr>\n",
       "      <th>145</th>\n",
       "      <td>NED</td>\n",
       "      <td>371</td>\n",
       "    </tr>\n",
       "    <tr>\n",
       "      <th>90</th>\n",
       "      <td>HUN</td>\n",
       "      <td>363</td>\n",
       "    </tr>\n",
       "    <tr>\n",
       "      <th>193</th>\n",
       "      <td>SWE</td>\n",
       "      <td>358</td>\n",
       "    </tr>\n",
       "  </tbody>\n",
       "</table>\n",
       "</div>"
      ],
      "text/plain": [
       "     NOC  Laimėti bronzos medaliai\n",
       "216  USA                      1197\n",
       "79   GER                       649\n",
       "74   GBR                       620\n",
       "214  URS                       596\n",
       "69   FRA                       587\n",
       "12   AUS                       510\n",
       "100  ITA                       454\n",
       "145  NED                       371\n",
       "90   HUN                       363\n",
       "193  SWE                       358"
      ]
     },
     "execution_count": 32,
     "metadata": {},
     "output_type": "execute_result"
    }
   ],
   "source": [
    "#Vasaros olimpinėse žaidynėse laimėtų bronzos medalių statistika\n",
    "Laimėti_bronzos_vasaros = olympic.groupby('NOC')['Medal'].apply(lambda x: (x=='Bronze').sum()).reset_index(name='Laimėti bronzos medaliai')\n",
    "Laimėti_bronzos_vasaros.sort_values('Laimėti bronzos medaliai', ascending=False).head(10)"
   ]
  },
  {
   "cell_type": "code",
   "execution_count": 33,
   "metadata": {},
   "outputs": [
    {
     "data": {
      "text/html": [
       "<div>\n",
       "<style scoped>\n",
       "    .dataframe tbody tr th:only-of-type {\n",
       "        vertical-align: middle;\n",
       "    }\n",
       "\n",
       "    .dataframe tbody tr th {\n",
       "        vertical-align: top;\n",
       "    }\n",
       "\n",
       "    .dataframe thead th {\n",
       "        text-align: right;\n",
       "    }\n",
       "</style>\n",
       "<table border=\"1\" class=\"dataframe\">\n",
       "  <thead>\n",
       "    <tr style=\"text-align: right;\">\n",
       "      <th></th>\n",
       "      <th>NOC</th>\n",
       "      <th>Laimėti bronzos medaliai</th>\n",
       "    </tr>\n",
       "  </thead>\n",
       "  <tbody>\n",
       "    <tr>\n",
       "      <th>35</th>\n",
       "      <td>FIN</td>\n",
       "      <td>215</td>\n",
       "    </tr>\n",
       "    <tr>\n",
       "      <th>100</th>\n",
       "      <td>SWE</td>\n",
       "      <td>177</td>\n",
       "    </tr>\n",
       "    <tr>\n",
       "      <th>114</th>\n",
       "      <td>USA</td>\n",
       "      <td>161</td>\n",
       "    </tr>\n",
       "    <tr>\n",
       "      <th>98</th>\n",
       "      <td>SUI</td>\n",
       "      <td>129</td>\n",
       "    </tr>\n",
       "    <tr>\n",
       "      <th>80</th>\n",
       "      <td>NOR</td>\n",
       "      <td>127</td>\n",
       "    </tr>\n",
       "    <tr>\n",
       "      <th>17</th>\n",
       "      <td>CAN</td>\n",
       "      <td>107</td>\n",
       "    </tr>\n",
       "    <tr>\n",
       "      <th>8</th>\n",
       "      <td>AUT</td>\n",
       "      <td>103</td>\n",
       "    </tr>\n",
       "    <tr>\n",
       "      <th>41</th>\n",
       "      <td>GER</td>\n",
       "      <td>97</td>\n",
       "    </tr>\n",
       "    <tr>\n",
       "      <th>112</th>\n",
       "      <td>URS</td>\n",
       "      <td>93</td>\n",
       "    </tr>\n",
       "    <tr>\n",
       "      <th>36</th>\n",
       "      <td>FRA</td>\n",
       "      <td>79</td>\n",
       "    </tr>\n",
       "  </tbody>\n",
       "</table>\n",
       "</div>"
      ],
      "text/plain": [
       "     NOC  Laimėti bronzos medaliai\n",
       "35   FIN                       215\n",
       "100  SWE                       177\n",
       "114  USA                       161\n",
       "98   SUI                       129\n",
       "80   NOR                       127\n",
       "17   CAN                       107\n",
       "8    AUT                       103\n",
       "41   GER                        97\n",
       "112  URS                        93\n",
       "36   FRA                        79"
      ]
     },
     "execution_count": 33,
     "metadata": {},
     "output_type": "execute_result"
    }
   ],
   "source": [
    "#Žiemos olimpinėse žaidynėse laimėtų bronzos medalių statistika\n",
    "Laimėti_bronzos_žiemos = olympic2.groupby('NOC')['Medal'].apply(lambda x: (x=='Bronze').sum()).reset_index(name='Laimėti bronzos medaliai')\n",
    "Laimėti_bronzos_žiemos.sort_values('Laimėti bronzos medaliai', ascending=False).head(10)"
   ]
  },
  {
   "cell_type": "code",
   "execution_count": 34,
   "metadata": {},
   "outputs": [
    {
     "data": {
      "text/plain": [
       "NOC\n",
       "USA    15064\n",
       "GBR    10917\n",
       "FRA    10633\n",
       "ITA     8217\n",
       "GER     7622\n",
       "Name: ID, dtype: int64"
      ]
     },
     "execution_count": 34,
     "metadata": {},
     "output_type": "execute_result"
    }
   ],
   "source": [
    "#4. Išanalizuoti, kurios šalys siųsdavo daugiausiai sportininkų dalyvauti žaidynėse ir ar tos šalys laimėdavo daugiausiai medalių.\n",
    "Vasaros_olimpinių_dalyviai = olympic.groupby('NOC')['ID'].count()\n",
    "Vasaros_olimpinių_dalyviai.sort_values(ascending=False).head(5)"
   ]
  },
  {
   "cell_type": "code",
   "execution_count": 35,
   "metadata": {},
   "outputs": [
    {
     "data": {
      "text/plain": [
       "NOC\n",
       "USA    3789\n",
       "CAN    2873\n",
       "ITA    2498\n",
       "NOR    2362\n",
       "SWE    2263\n",
       "Name: ID, dtype: int64"
      ]
     },
     "execution_count": 35,
     "metadata": {},
     "output_type": "execute_result"
    }
   ],
   "source": [
    "Žiemos_olimpinių_dalyviai = olympic2. groupby('NOC')['ID'].count()\n",
    "Žiemos_olimpinių_dalyviai.sort_values(ascending=False).head(5)"
   ]
  },
  {
   "cell_type": "code",
   "execution_count": 36,
   "metadata": {},
   "outputs": [
    {
     "name": "stdout",
     "output_type": "stream",
     "text": [
      "     Medal  Laimėti medaliai vasaros\n",
      "0   Bronze                        48\n",
      "1     Gold                         6\n",
      "2  Not win                       477\n",
      "3   Silver                         7\n",
      "\n",
      "     Medal  Laimėti medaliai žiemos\n",
      "0   Bronze                        0\n",
      "1     Gold                        0\n",
      "2  Not win                      116\n",
      "3   Silver                        0\n"
     ]
    }
   ],
   "source": [
    "#5. Kiek Lietuvos sportininkai yra laimėję medalių? TOP 10 Lietuvos medalininkų? Kokio vidutinio amžiaus būdami Lietuviai dažniausiai laimėdavo medalius?\n",
    "Lietuvių_laimėti_medaliai_vasaros = olympic.groupby('Medal')['NOC'].apply(lambda x: (x=='LTU').sum()).reset_index(name='Laimėti medaliai vasaros')\n",
    "print(Lietuvių_laimėti_medaliai_vasaros)\n",
    "print()\n",
    "Lietuvių_laimėti_medaliai_žiemos = olympic2.groupby('Medal')['NOC'].apply(lambda x: (x=='LTU').sum()).reset_index(name='Laimėti medaliai žiemos')\n",
    "print(Lietuvių_laimėti_medaliai_žiemos)"
   ]
  },
  {
   "cell_type": "code",
   "execution_count": 37,
   "metadata": {},
   "outputs": [
    {
     "data": {
      "text/plain": [
       "Name\n",
       "Virgilijus Alekna              3\n",
       "Gintaras Einikis               3\n",
       "Rimas Kurtinaitis              2\n",
       "Andrejus Zadneprovskis         2\n",
       "Artras Karniovas               2\n",
       "Arvydas Romas Sabonis          2\n",
       "Saulius tombergas              2\n",
       "Eurelijus ukauskas             2\n",
       "Raimondas arnas Mariulionis    2\n",
       "Aleksandras Kazakeviius        1\n",
       "Name: Medal, dtype: int64"
      ]
     },
     "execution_count": 37,
     "metadata": {},
     "output_type": "execute_result"
    }
   ],
   "source": [
    "#TOP 10 Lietuvos medalininkų?\n",
    "\n",
    "olympic3=olympic3.dropna()\n",
    "olympic3.drop(olympic3[olympic3['NOC'] != 'LTU']. index, inplace = True)\n",
    "\n",
    "Lietuvos_medalininkai = olympic3.groupby('Name')['Medal'].count()\n",
    "Lietuvos_medalininkai.sort_values(ascending=False).head(10)"
   ]
  },
  {
   "cell_type": "code",
   "execution_count": 38,
   "metadata": {},
   "outputs": [
    {
     "name": "stdout",
     "output_type": "stream",
     "text": [
      "Medaliai laimimi pagal amžių: \n",
      " Medal\n",
      "Bronze    27.0\n",
      "Gold      28.0\n",
      "Silver    28.0\n",
      "Name: Age, dtype: float64\n"
     ]
    }
   ],
   "source": [
    "#Kokio vidutinio amžiaus būdami Lietuviai dažniausiai laimėdavo medalius?\n",
    "pagal_medalius=round(olympic3.groupby('Medal')['Age'].mean(),0)\n",
    "print('Medaliai laimimi pagal amžių:','\\n',pagal_medalius)"
   ]
  },
  {
   "cell_type": "code",
   "execution_count": 39,
   "metadata": {},
   "outputs": [
    {
     "data": {
      "image/png": "[encoded data removed]",
      "text/plain": [
       "<Figure size 640x480 with 1 Axes>"
      ]
     },
     "metadata": {},
     "output_type": "display_data"
    }
   ],
   "source": [
    "Medaliai = ['Auksas', 'Sidabras', 'Bronza']\n",
    "Vidutinis_amžius = [28, 28, 27]\n",
    "\n",
    "bars = plt.barh(Medaliai, Vidutinis_amžius)\n",
    "bars[0].set_hatch('/')\n",
    "bars[1].set_hatch('O')\n",
    "bars[2].set_hatch('*')\n",
    "\n",
    "\n",
    "\n",
    "for index, value in enumerate(Vidutinis_amžius):\n",
    "    plt.text(value, index,\n",
    "             str(value))\n",
    " \n",
    "plt.show()\n",
    "\n"
   ]
  }
 ],
 "metadata": {
  "kernelspec": {
   "display_name": ".venv",
   "language": "python",
   "name": "python3"
  },
  "language_info": {
   "codemirror_mode": {
    "name": "ipython",
    "version": 3
   },
   "file_extension": ".py",
   "mimetype": "text/x-python",
   "name": "python",
   "nbconvert_exporter": "python",
   "pygments_lexer": "ipython3",
   "version": "3.9.6"
  },
  "orig_nbformat": 4,
  "vscode": {
   "interpreter": {
    "hash": "af2bd930ea5b17faca15ae67bce4a7f49ea6d4f7e51d1753203fa8be10d80e67"
   }
  }
 },
 "nbformat": 4,
 "nbformat_minor": 2
}
